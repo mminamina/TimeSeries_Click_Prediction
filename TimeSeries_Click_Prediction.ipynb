{
 "cells": [
  {
   "cell_type": "code",
   "execution_count": 60,
   "metadata": {},
   "outputs": [],
   "source": [
    "import matplotlib.pyplot as plt\n",
    "%matplotlib inline\n",
    "%reload_ext autoreload\n",
    "%autoreload 2\n",
    "from sklearn import model_selection\n",
    "from sklearn import metrics\n",
    "import numpy as np\n",
    "from numpy.random import randn\n",
    "import pandas as pd\n",
    "import matplotlib.pyplot as plt\n",
    "import seaborn as sns\n",
    "from sklearn.preprocessing import StandardScaler,MinMaxScaler\n",
    "import lightgbm as lgb\n",
    "from sklearn.model_selection import RandomizedSearchCV, GridSearchCV"
   ]
  },
  {
   "cell_type": "code",
   "execution_count": 2,
   "metadata": {
    "hidden": true
   },
   "outputs": [],
   "source": [
    "PATH='data/Trivago/'\n",
    "train_i=pd.read_csv(f'{PATH}train_set.csv',low_memory=False)\n",
    "test_i=pd.read_csv(f'{PATH}test_set.csv',low_memory=False)"
   ]
  },
  {
   "cell_type": "code",
   "execution_count": 3,
   "metadata": {
    "hidden": true
   },
   "outputs": [
    {
     "data": {
      "text/html": [
       "<div>\n",
       "<style scoped>\n",
       "    .dataframe tbody tr th:only-of-type {\n",
       "        vertical-align: middle;\n",
       "    }\n",
       "\n",
       "    .dataframe tbody tr th {\n",
       "        vertical-align: top;\n",
       "    }\n",
       "\n",
       "    .dataframe thead th {\n",
       "        text-align: right;\n",
       "    }\n",
       "</style>\n",
       "<table border=\"1\" class=\"dataframe\">\n",
       "  <thead>\n",
       "    <tr style=\"text-align: right;\">\n",
       "      <th></th>\n",
       "      <th>id</th>\n",
       "      <th>yyear</th>\n",
       "      <th>week_of_year</th>\n",
       "      <th>advertiser_id</th>\n",
       "      <th>market</th>\n",
       "      <th>hotel_id</th>\n",
       "      <th>clicks</th>\n",
       "      <th>cost</th>\n",
       "      <th>bookings</th>\n",
       "      <th>top_pos</th>\n",
       "      <th>...</th>\n",
       "      <th>city_hotel_centrally_located</th>\n",
       "      <th>health_resortrehab_hotel</th>\n",
       "      <th>club_club_hotel</th>\n",
       "      <th>airport_hotel</th>\n",
       "      <th>senior_hotel</th>\n",
       "      <th>eco_friendly_hotel</th>\n",
       "      <th>family_hotel</th>\n",
       "      <th>total_images</th>\n",
       "      <th>total_hq_images</th>\n",
       "      <th>advertiser_connections</th>\n",
       "    </tr>\n",
       "  </thead>\n",
       "  <tbody>\n",
       "    <tr>\n",
       "      <th>595843</th>\n",
       "      <td>201734IM121814828828</td>\n",
       "      <td>2017</td>\n",
       "      <td>34</td>\n",
       "      <td>1218</td>\n",
       "      <td>IM</td>\n",
       "      <td>14828828</td>\n",
       "      <td>6</td>\n",
       "      <td>3381</td>\n",
       "      <td>0</td>\n",
       "      <td>193</td>\n",
       "      <td>...</td>\n",
       "      <td>NaN</td>\n",
       "      <td>NaN</td>\n",
       "      <td>NaN</td>\n",
       "      <td>NaN</td>\n",
       "      <td>NaN</td>\n",
       "      <td>NaN</td>\n",
       "      <td>NaN</td>\n",
       "      <td>1</td>\n",
       "      <td>1</td>\n",
       "      <td>26</td>\n",
       "    </tr>\n",
       "    <tr>\n",
       "      <th>595844</th>\n",
       "      <td>201728IM121814828828</td>\n",
       "      <td>2017</td>\n",
       "      <td>28</td>\n",
       "      <td>1218</td>\n",
       "      <td>IM</td>\n",
       "      <td>14828828</td>\n",
       "      <td>2</td>\n",
       "      <td>2024</td>\n",
       "      <td>0</td>\n",
       "      <td>225</td>\n",
       "      <td>...</td>\n",
       "      <td>NaN</td>\n",
       "      <td>NaN</td>\n",
       "      <td>NaN</td>\n",
       "      <td>NaN</td>\n",
       "      <td>NaN</td>\n",
       "      <td>NaN</td>\n",
       "      <td>NaN</td>\n",
       "      <td>1</td>\n",
       "      <td>1</td>\n",
       "      <td>26</td>\n",
       "    </tr>\n",
       "    <tr>\n",
       "      <th>595845</th>\n",
       "      <td>201742IM8414828828</td>\n",
       "      <td>2017</td>\n",
       "      <td>42</td>\n",
       "      <td>84</td>\n",
       "      <td>IM</td>\n",
       "      <td>14828828</td>\n",
       "      <td>2</td>\n",
       "      <td>828</td>\n",
       "      <td>0</td>\n",
       "      <td>31</td>\n",
       "      <td>...</td>\n",
       "      <td>NaN</td>\n",
       "      <td>NaN</td>\n",
       "      <td>NaN</td>\n",
       "      <td>NaN</td>\n",
       "      <td>NaN</td>\n",
       "      <td>NaN</td>\n",
       "      <td>NaN</td>\n",
       "      <td>1</td>\n",
       "      <td>1</td>\n",
       "      <td>26</td>\n",
       "    </tr>\n",
       "    <tr>\n",
       "      <th>595846</th>\n",
       "      <td>20181IM135614828828</td>\n",
       "      <td>2018</td>\n",
       "      <td>1</td>\n",
       "      <td>1356</td>\n",
       "      <td>IM</td>\n",
       "      <td>14828828</td>\n",
       "      <td>2</td>\n",
       "      <td>2392</td>\n",
       "      <td>2</td>\n",
       "      <td>2</td>\n",
       "      <td>...</td>\n",
       "      <td>NaN</td>\n",
       "      <td>NaN</td>\n",
       "      <td>NaN</td>\n",
       "      <td>NaN</td>\n",
       "      <td>NaN</td>\n",
       "      <td>NaN</td>\n",
       "      <td>NaN</td>\n",
       "      <td>1</td>\n",
       "      <td>1</td>\n",
       "      <td>26</td>\n",
       "    </tr>\n",
       "    <tr>\n",
       "      <th>595847</th>\n",
       "      <td>201740IM512414828828</td>\n",
       "      <td>2017</td>\n",
       "      <td>40</td>\n",
       "      <td>5124</td>\n",
       "      <td>IM</td>\n",
       "      <td>14828828</td>\n",
       "      <td>14</td>\n",
       "      <td>8694</td>\n",
       "      <td>4</td>\n",
       "      <td>288</td>\n",
       "      <td>...</td>\n",
       "      <td>NaN</td>\n",
       "      <td>NaN</td>\n",
       "      <td>NaN</td>\n",
       "      <td>NaN</td>\n",
       "      <td>NaN</td>\n",
       "      <td>NaN</td>\n",
       "      <td>NaN</td>\n",
       "      <td>1</td>\n",
       "      <td>1</td>\n",
       "      <td>26</td>\n",
       "    </tr>\n",
       "  </tbody>\n",
       "</table>\n",
       "<p>5 rows × 37 columns</p>\n",
       "</div>"
      ],
      "text/plain": [
       "                          id  yyear  week_of_year  advertiser_id market  \\\n",
       "595843  201734IM121814828828   2017            34           1218     IM   \n",
       "595844  201728IM121814828828   2017            28           1218     IM   \n",
       "595845    201742IM8414828828   2017            42             84     IM   \n",
       "595846   20181IM135614828828   2018             1           1356     IM   \n",
       "595847  201740IM512414828828   2017            40           5124     IM   \n",
       "\n",
       "        hotel_id  clicks  cost  bookings  top_pos           ...            \\\n",
       "595843  14828828       6  3381         0      193           ...             \n",
       "595844  14828828       2  2024         0      225           ...             \n",
       "595845  14828828       2   828         0       31           ...             \n",
       "595846  14828828       2  2392         2        2           ...             \n",
       "595847  14828828      14  8694         4      288           ...             \n",
       "\n",
       "        city_hotel_centrally_located  health_resortrehab_hotel  \\\n",
       "595843                           NaN                       NaN   \n",
       "595844                           NaN                       NaN   \n",
       "595845                           NaN                       NaN   \n",
       "595846                           NaN                       NaN   \n",
       "595847                           NaN                       NaN   \n",
       "\n",
       "        club_club_hotel  airport_hotel  senior_hotel  eco_friendly_hotel  \\\n",
       "595843              NaN            NaN           NaN                 NaN   \n",
       "595844              NaN            NaN           NaN                 NaN   \n",
       "595845              NaN            NaN           NaN                 NaN   \n",
       "595846              NaN            NaN           NaN                 NaN   \n",
       "595847              NaN            NaN           NaN                 NaN   \n",
       "\n",
       "        family_hotel  total_images  total_hq_images  advertiser_connections  \n",
       "595843           NaN             1                1                      26  \n",
       "595844           NaN             1                1                      26  \n",
       "595845           NaN             1                1                      26  \n",
       "595846           NaN             1                1                      26  \n",
       "595847           NaN             1                1                      26  \n",
       "\n",
       "[5 rows x 37 columns]"
      ]
     },
     "execution_count": 3,
     "metadata": {},
     "output_type": "execute_result"
    }
   ],
   "source": [
    "train_i.tail()"
   ]
  },
  {
   "cell_type": "code",
   "execution_count": 4,
   "metadata": {
    "hidden": true
   },
   "outputs": [
    {
     "data": {
      "text/html": [
       "<div>\n",
       "<style scoped>\n",
       "    .dataframe tbody tr th:only-of-type {\n",
       "        vertical-align: middle;\n",
       "    }\n",
       "\n",
       "    .dataframe tbody tr th {\n",
       "        vertical-align: top;\n",
       "    }\n",
       "\n",
       "    .dataframe thead th {\n",
       "        text-align: right;\n",
       "    }\n",
       "</style>\n",
       "<table border=\"1\" class=\"dataframe\">\n",
       "  <thead>\n",
       "    <tr style=\"text-align: right;\">\n",
       "      <th></th>\n",
       "      <th>id</th>\n",
       "      <th>yyear</th>\n",
       "      <th>week_of_year</th>\n",
       "      <th>advertiser_id</th>\n",
       "      <th>market</th>\n",
       "      <th>hotel_id</th>\n",
       "      <th>clicks</th>\n",
       "      <th>cost</th>\n",
       "      <th>bookings</th>\n",
       "      <th>top_pos</th>\n",
       "      <th>...</th>\n",
       "      <th>city_hotel_centrally_located</th>\n",
       "      <th>health_resortrehab_hotel</th>\n",
       "      <th>club_club_hotel</th>\n",
       "      <th>airport_hotel</th>\n",
       "      <th>senior_hotel</th>\n",
       "      <th>eco_friendly_hotel</th>\n",
       "      <th>family_hotel</th>\n",
       "      <th>total_images</th>\n",
       "      <th>total_hq_images</th>\n",
       "      <th>advertiser_connections</th>\n",
       "    </tr>\n",
       "  </thead>\n",
       "  <tbody>\n",
       "    <tr>\n",
       "      <th>10450</th>\n",
       "      <td>20187IM53107132024</td>\n",
       "      <td>2018</td>\n",
       "      <td>7</td>\n",
       "      <td>5310</td>\n",
       "      <td>IM</td>\n",
       "      <td>7132024</td>\n",
       "      <td>6</td>\n",
       "      <td>6900</td>\n",
       "      <td>NaN</td>\n",
       "      <td>31</td>\n",
       "      <td>...</td>\n",
       "      <td>1.0</td>\n",
       "      <td>NaN</td>\n",
       "      <td>NaN</td>\n",
       "      <td>NaN</td>\n",
       "      <td>NaN</td>\n",
       "      <td>NaN</td>\n",
       "      <td>NaN</td>\n",
       "      <td>112</td>\n",
       "      <td>101</td>\n",
       "      <td>135</td>\n",
       "    </tr>\n",
       "    <tr>\n",
       "      <th>10451</th>\n",
       "      <td>20187IM13567132024</td>\n",
       "      <td>2018</td>\n",
       "      <td>7</td>\n",
       "      <td>1356</td>\n",
       "      <td>IM</td>\n",
       "      <td>7132024</td>\n",
       "      <td>1</td>\n",
       "      <td>1127</td>\n",
       "      <td>NaN</td>\n",
       "      <td>22</td>\n",
       "      <td>...</td>\n",
       "      <td>1.0</td>\n",
       "      <td>NaN</td>\n",
       "      <td>NaN</td>\n",
       "      <td>NaN</td>\n",
       "      <td>NaN</td>\n",
       "      <td>NaN</td>\n",
       "      <td>NaN</td>\n",
       "      <td>112</td>\n",
       "      <td>101</td>\n",
       "      <td>135</td>\n",
       "    </tr>\n",
       "    <tr>\n",
       "      <th>10452</th>\n",
       "      <td>20187IM60187132024</td>\n",
       "      <td>2018</td>\n",
       "      <td>7</td>\n",
       "      <td>6018</td>\n",
       "      <td>IM</td>\n",
       "      <td>7132024</td>\n",
       "      <td>3</td>\n",
       "      <td>2070</td>\n",
       "      <td>NaN</td>\n",
       "      <td>6</td>\n",
       "      <td>...</td>\n",
       "      <td>1.0</td>\n",
       "      <td>NaN</td>\n",
       "      <td>NaN</td>\n",
       "      <td>NaN</td>\n",
       "      <td>NaN</td>\n",
       "      <td>NaN</td>\n",
       "      <td>NaN</td>\n",
       "      <td>112</td>\n",
       "      <td>101</td>\n",
       "      <td>135</td>\n",
       "    </tr>\n",
       "    <tr>\n",
       "      <th>10453</th>\n",
       "      <td>20187IM135610261800</td>\n",
       "      <td>2018</td>\n",
       "      <td>7</td>\n",
       "      <td>1356</td>\n",
       "      <td>IM</td>\n",
       "      <td>10261800</td>\n",
       "      <td>303</td>\n",
       "      <td>503907</td>\n",
       "      <td>NaN</td>\n",
       "      <td>2230</td>\n",
       "      <td>...</td>\n",
       "      <td>NaN</td>\n",
       "      <td>NaN</td>\n",
       "      <td>NaN</td>\n",
       "      <td>NaN</td>\n",
       "      <td>NaN</td>\n",
       "      <td>NaN</td>\n",
       "      <td>NaN</td>\n",
       "      <td>6</td>\n",
       "      <td>0</td>\n",
       "      <td>34</td>\n",
       "    </tr>\n",
       "    <tr>\n",
       "      <th>10454</th>\n",
       "      <td>20187IM121810261800</td>\n",
       "      <td>2018</td>\n",
       "      <td>7</td>\n",
       "      <td>1218</td>\n",
       "      <td>IM</td>\n",
       "      <td>10261800</td>\n",
       "      <td>1</td>\n",
       "      <td>506</td>\n",
       "      <td>NaN</td>\n",
       "      <td>0</td>\n",
       "      <td>...</td>\n",
       "      <td>NaN</td>\n",
       "      <td>NaN</td>\n",
       "      <td>NaN</td>\n",
       "      <td>NaN</td>\n",
       "      <td>NaN</td>\n",
       "      <td>NaN</td>\n",
       "      <td>NaN</td>\n",
       "      <td>6</td>\n",
       "      <td>0</td>\n",
       "      <td>34</td>\n",
       "    </tr>\n",
       "  </tbody>\n",
       "</table>\n",
       "<p>5 rows × 37 columns</p>\n",
       "</div>"
      ],
      "text/plain": [
       "                        id  yyear  week_of_year  advertiser_id market  \\\n",
       "10450   20187IM53107132024   2018             7           5310     IM   \n",
       "10451   20187IM13567132024   2018             7           1356     IM   \n",
       "10452   20187IM60187132024   2018             7           6018     IM   \n",
       "10453  20187IM135610261800   2018             7           1356     IM   \n",
       "10454  20187IM121810261800   2018             7           1218     IM   \n",
       "\n",
       "       hotel_id  clicks    cost  bookings  top_pos           ...            \\\n",
       "10450   7132024       6    6900       NaN       31           ...             \n",
       "10451   7132024       1    1127       NaN       22           ...             \n",
       "10452   7132024       3    2070       NaN        6           ...             \n",
       "10453  10261800     303  503907       NaN     2230           ...             \n",
       "10454  10261800       1     506       NaN        0           ...             \n",
       "\n",
       "       city_hotel_centrally_located  health_resortrehab_hotel  \\\n",
       "10450                           1.0                       NaN   \n",
       "10451                           1.0                       NaN   \n",
       "10452                           1.0                       NaN   \n",
       "10453                           NaN                       NaN   \n",
       "10454                           NaN                       NaN   \n",
       "\n",
       "       club_club_hotel  airport_hotel  senior_hotel  eco_friendly_hotel  \\\n",
       "10450              NaN            NaN           NaN                 NaN   \n",
       "10451              NaN            NaN           NaN                 NaN   \n",
       "10452              NaN            NaN           NaN                 NaN   \n",
       "10453              NaN            NaN           NaN                 NaN   \n",
       "10454              NaN            NaN           NaN                 NaN   \n",
       "\n",
       "       family_hotel  total_images  total_hq_images  advertiser_connections  \n",
       "10450           NaN           112              101                     135  \n",
       "10451           NaN           112              101                     135  \n",
       "10452           NaN           112              101                     135  \n",
       "10453           NaN             6                0                      34  \n",
       "10454           NaN             6                0                      34  \n",
       "\n",
       "[5 rows x 37 columns]"
      ]
     },
     "execution_count": 4,
     "metadata": {},
     "output_type": "execute_result"
    }
   ],
   "source": [
    "test_i.tail()"
   ]
  },
  {
   "cell_type": "code",
   "execution_count": 5,
   "metadata": {
    "hidden": true
   },
   "outputs": [],
   "source": [
    "train_i.drop(columns='market',inplace=True)\n",
    "test_i.drop(columns='market',inplace=True)"
   ]
  },
  {
   "cell_type": "code",
   "execution_count": 6,
   "metadata": {
    "hidden": true
   },
   "outputs": [],
   "source": [
    "train_i['health_resortrehab_hotel'].fillna(2,inplace= True)\n",
    "train_i['club_club_hotel'].fillna(2,inplace= True)\n",
    "train_i['airport_hotel'].fillna(2,inplace= True)\n",
    "train_i['senior_hotel'].fillna(2,inplace= True)\n",
    "train_i['eco_friendly_hotel'].fillna(2,inplace= True)\n",
    "train_i['spa_hotel'].fillna(2,inplace= True)\n",
    "train_i['country_hotel'].fillna(2,inplace= True)\n",
    "train_i['convention_hotel'].fillna(2,inplace= True)\n",
    "train_i['beach_front_hotel'].fillna(2,inplace= True)\n",
    "train_i['luxury_hotel'].fillna(2,inplace= True)\n",
    "train_i['eco_friendly_hotel'].fillna(2,inplace= True)\n",
    "train_i['family_hotel'].fillna(2,inplace= True)\n",
    "train_i['city_hotel_centrally_located'].fillna(0,inplace= True)"
   ]
  },
  {
   "cell_type": "code",
   "execution_count": 7,
   "metadata": {
    "hidden": true
   },
   "outputs": [],
   "source": [
    "test_i['health_resortrehab_hotel'].fillna(2,inplace= True)\n",
    "test_i['club_club_hotel'].fillna(2,inplace= True)\n",
    "test_i['airport_hotel'].fillna(2,inplace= True)\n",
    "test_i['senior_hotel'].fillna(2,inplace= True)\n",
    "test_i['eco_friendly_hotel'].fillna(2,inplace= True)\n",
    "test_i['spa_hotel'].fillna(2,inplace= True)\n",
    "test_i['country_hotel'].fillna(2,inplace= True)\n",
    "test_i['convention_hotel'].fillna(2,inplace= True)\n",
    "test_i['beach_front_hotel'].fillna(2,inplace= True)\n",
    "test_i['luxury_hotel'].fillna(2,inplace= True)\n",
    "test_i['eco_friendly_hotel'].fillna(2,inplace= True)\n",
    "test_i['city_hotel_centrally_located'].fillna(0,inplace= True)"
   ]
  },
  {
   "cell_type": "code",
   "execution_count": 8,
   "metadata": {
    "hidden": true
   },
   "outputs": [
    {
     "data": {
      "text/html": [
       "<div>\n",
       "<style scoped>\n",
       "    .dataframe tbody tr th:only-of-type {\n",
       "        vertical-align: middle;\n",
       "    }\n",
       "\n",
       "    .dataframe tbody tr th {\n",
       "        vertical-align: top;\n",
       "    }\n",
       "\n",
       "    .dataframe thead th {\n",
       "        text-align: right;\n",
       "    }\n",
       "</style>\n",
       "<table border=\"1\" class=\"dataframe\">\n",
       "  <thead>\n",
       "    <tr style=\"text-align: right;\">\n",
       "      <th></th>\n",
       "      <th>id</th>\n",
       "      <th>yyear</th>\n",
       "      <th>week_of_year</th>\n",
       "      <th>advertiser_id</th>\n",
       "      <th>hotel_id</th>\n",
       "      <th>clicks</th>\n",
       "      <th>cost</th>\n",
       "      <th>bookings</th>\n",
       "      <th>top_pos</th>\n",
       "      <th>beat</th>\n",
       "      <th>...</th>\n",
       "      <th>city_hotel_centrally_located</th>\n",
       "      <th>health_resortrehab_hotel</th>\n",
       "      <th>club_club_hotel</th>\n",
       "      <th>airport_hotel</th>\n",
       "      <th>senior_hotel</th>\n",
       "      <th>eco_friendly_hotel</th>\n",
       "      <th>family_hotel</th>\n",
       "      <th>total_images</th>\n",
       "      <th>total_hq_images</th>\n",
       "      <th>advertiser_connections</th>\n",
       "    </tr>\n",
       "  </thead>\n",
       "  <tbody>\n",
       "    <tr>\n",
       "      <th>0</th>\n",
       "      <td>201716IM512425060</td>\n",
       "      <td>2017</td>\n",
       "      <td>16</td>\n",
       "      <td>5124</td>\n",
       "      <td>25060</td>\n",
       "      <td>2</td>\n",
       "      <td>1104</td>\n",
       "      <td>0</td>\n",
       "      <td>1</td>\n",
       "      <td>1.0</td>\n",
       "      <td>...</td>\n",
       "      <td>1.0</td>\n",
       "      <td>2.0</td>\n",
       "      <td>2.0</td>\n",
       "      <td>2.0</td>\n",
       "      <td>2.0</td>\n",
       "      <td>2.0</td>\n",
       "      <td>2.0</td>\n",
       "      <td>105</td>\n",
       "      <td>41</td>\n",
       "      <td>269</td>\n",
       "    </tr>\n",
       "    <tr>\n",
       "      <th>1</th>\n",
       "      <td>20176IM135625060</td>\n",
       "      <td>2017</td>\n",
       "      <td>6</td>\n",
       "      <td>1356</td>\n",
       "      <td>25060</td>\n",
       "      <td>34</td>\n",
       "      <td>33281</td>\n",
       "      <td>11</td>\n",
       "      <td>174</td>\n",
       "      <td>37.0</td>\n",
       "      <td>...</td>\n",
       "      <td>1.0</td>\n",
       "      <td>2.0</td>\n",
       "      <td>2.0</td>\n",
       "      <td>2.0</td>\n",
       "      <td>2.0</td>\n",
       "      <td>2.0</td>\n",
       "      <td>2.0</td>\n",
       "      <td>105</td>\n",
       "      <td>41</td>\n",
       "      <td>269</td>\n",
       "    </tr>\n",
       "    <tr>\n",
       "      <th>2</th>\n",
       "      <td>201728IM512425060</td>\n",
       "      <td>2017</td>\n",
       "      <td>28</td>\n",
       "      <td>5124</td>\n",
       "      <td>25060</td>\n",
       "      <td>3</td>\n",
       "      <td>2001</td>\n",
       "      <td>0</td>\n",
       "      <td>0</td>\n",
       "      <td>24.0</td>\n",
       "      <td>...</td>\n",
       "      <td>1.0</td>\n",
       "      <td>2.0</td>\n",
       "      <td>2.0</td>\n",
       "      <td>2.0</td>\n",
       "      <td>2.0</td>\n",
       "      <td>2.0</td>\n",
       "      <td>2.0</td>\n",
       "      <td>105</td>\n",
       "      <td>41</td>\n",
       "      <td>269</td>\n",
       "    </tr>\n",
       "    <tr>\n",
       "      <th>3</th>\n",
       "      <td>201726IM135625060</td>\n",
       "      <td>2017</td>\n",
       "      <td>26</td>\n",
       "      <td>1356</td>\n",
       "      <td>25060</td>\n",
       "      <td>218</td>\n",
       "      <td>282394</td>\n",
       "      <td>21</td>\n",
       "      <td>1467</td>\n",
       "      <td>55.0</td>\n",
       "      <td>...</td>\n",
       "      <td>1.0</td>\n",
       "      <td>2.0</td>\n",
       "      <td>2.0</td>\n",
       "      <td>2.0</td>\n",
       "      <td>2.0</td>\n",
       "      <td>2.0</td>\n",
       "      <td>2.0</td>\n",
       "      <td>105</td>\n",
       "      <td>41</td>\n",
       "      <td>269</td>\n",
       "    </tr>\n",
       "    <tr>\n",
       "      <th>4</th>\n",
       "      <td>201737IM107125060</td>\n",
       "      <td>2017</td>\n",
       "      <td>37</td>\n",
       "      <td>1071</td>\n",
       "      <td>25060</td>\n",
       "      <td>5</td>\n",
       "      <td>4600</td>\n",
       "      <td>0</td>\n",
       "      <td>42</td>\n",
       "      <td>NaN</td>\n",
       "      <td>...</td>\n",
       "      <td>1.0</td>\n",
       "      <td>2.0</td>\n",
       "      <td>2.0</td>\n",
       "      <td>2.0</td>\n",
       "      <td>2.0</td>\n",
       "      <td>2.0</td>\n",
       "      <td>2.0</td>\n",
       "      <td>105</td>\n",
       "      <td>41</td>\n",
       "      <td>269</td>\n",
       "    </tr>\n",
       "  </tbody>\n",
       "</table>\n",
       "<p>5 rows × 36 columns</p>\n",
       "</div>"
      ],
      "text/plain": [
       "                  id  yyear  week_of_year  advertiser_id  hotel_id  clicks  \\\n",
       "0  201716IM512425060   2017            16           5124     25060       2   \n",
       "1   20176IM135625060   2017             6           1356     25060      34   \n",
       "2  201728IM512425060   2017            28           5124     25060       3   \n",
       "3  201726IM135625060   2017            26           1356     25060     218   \n",
       "4  201737IM107125060   2017            37           1071     25060       5   \n",
       "\n",
       "     cost  bookings  top_pos  beat           ...            \\\n",
       "0    1104         0        1   1.0           ...             \n",
       "1   33281        11      174  37.0           ...             \n",
       "2    2001         0        0  24.0           ...             \n",
       "3  282394        21     1467  55.0           ...             \n",
       "4    4600         0       42   NaN           ...             \n",
       "\n",
       "   city_hotel_centrally_located  health_resortrehab_hotel  club_club_hotel  \\\n",
       "0                           1.0                       2.0              2.0   \n",
       "1                           1.0                       2.0              2.0   \n",
       "2                           1.0                       2.0              2.0   \n",
       "3                           1.0                       2.0              2.0   \n",
       "4                           1.0                       2.0              2.0   \n",
       "\n",
       "   airport_hotel  senior_hotel  eco_friendly_hotel  family_hotel  \\\n",
       "0            2.0           2.0                 2.0           2.0   \n",
       "1            2.0           2.0                 2.0           2.0   \n",
       "2            2.0           2.0                 2.0           2.0   \n",
       "3            2.0           2.0                 2.0           2.0   \n",
       "4            2.0           2.0                 2.0           2.0   \n",
       "\n",
       "   total_images  total_hq_images  advertiser_connections  \n",
       "0           105               41                     269  \n",
       "1           105               41                     269  \n",
       "2           105               41                     269  \n",
       "3           105               41                     269  \n",
       "4           105               41                     269  \n",
       "\n",
       "[5 rows x 36 columns]"
      ]
     },
     "execution_count": 8,
     "metadata": {},
     "output_type": "execute_result"
    }
   ],
   "source": [
    "train_i.head()"
   ]
  },
  {
   "cell_type": "code",
   "execution_count": 9,
   "metadata": {
    "hidden": true
   },
   "outputs": [
    {
     "data": {
      "text/html": [
       "<div>\n",
       "<style scoped>\n",
       "    .dataframe tbody tr th:only-of-type {\n",
       "        vertical-align: middle;\n",
       "    }\n",
       "\n",
       "    .dataframe tbody tr th {\n",
       "        vertical-align: top;\n",
       "    }\n",
       "\n",
       "    .dataframe thead th {\n",
       "        text-align: right;\n",
       "    }\n",
       "</style>\n",
       "<table border=\"1\" class=\"dataframe\">\n",
       "  <thead>\n",
       "    <tr style=\"text-align: right;\">\n",
       "      <th></th>\n",
       "      <th>id</th>\n",
       "      <th>yyear</th>\n",
       "      <th>week_of_year</th>\n",
       "      <th>advertiser_id</th>\n",
       "      <th>hotel_id</th>\n",
       "      <th>clicks</th>\n",
       "      <th>cost</th>\n",
       "      <th>bookings</th>\n",
       "      <th>top_pos</th>\n",
       "      <th>beat</th>\n",
       "      <th>...</th>\n",
       "      <th>city_hotel_centrally_located</th>\n",
       "      <th>health_resortrehab_hotel</th>\n",
       "      <th>club_club_hotel</th>\n",
       "      <th>airport_hotel</th>\n",
       "      <th>senior_hotel</th>\n",
       "      <th>eco_friendly_hotel</th>\n",
       "      <th>family_hotel</th>\n",
       "      <th>total_images</th>\n",
       "      <th>total_hq_images</th>\n",
       "      <th>advertiser_connections</th>\n",
       "    </tr>\n",
       "  </thead>\n",
       "  <tbody>\n",
       "    <tr>\n",
       "      <th>0</th>\n",
       "      <td>20187IM592213442</td>\n",
       "      <td>2018</td>\n",
       "      <td>7</td>\n",
       "      <td>5922</td>\n",
       "      <td>13442</td>\n",
       "      <td>3</td>\n",
       "      <td>690</td>\n",
       "      <td>NaN</td>\n",
       "      <td>0</td>\n",
       "      <td>0</td>\n",
       "      <td>...</td>\n",
       "      <td>1.0</td>\n",
       "      <td>2.0</td>\n",
       "      <td>2.0</td>\n",
       "      <td>2.0</td>\n",
       "      <td>2.0</td>\n",
       "      <td>2.0</td>\n",
       "      <td>1.0</td>\n",
       "      <td>180</td>\n",
       "      <td>90</td>\n",
       "      <td>299</td>\n",
       "    </tr>\n",
       "    <tr>\n",
       "      <th>1</th>\n",
       "      <td>20187IM107113442</td>\n",
       "      <td>2018</td>\n",
       "      <td>7</td>\n",
       "      <td>1071</td>\n",
       "      <td>13442</td>\n",
       "      <td>20</td>\n",
       "      <td>28060</td>\n",
       "      <td>NaN</td>\n",
       "      <td>451</td>\n",
       "      <td>4</td>\n",
       "      <td>...</td>\n",
       "      <td>1.0</td>\n",
       "      <td>2.0</td>\n",
       "      <td>2.0</td>\n",
       "      <td>2.0</td>\n",
       "      <td>2.0</td>\n",
       "      <td>2.0</td>\n",
       "      <td>1.0</td>\n",
       "      <td>180</td>\n",
       "      <td>90</td>\n",
       "      <td>299</td>\n",
       "    </tr>\n",
       "    <tr>\n",
       "      <th>2</th>\n",
       "      <td>20187IM556813442</td>\n",
       "      <td>2018</td>\n",
       "      <td>7</td>\n",
       "      <td>5568</td>\n",
       "      <td>13442</td>\n",
       "      <td>2</td>\n",
       "      <td>1196</td>\n",
       "      <td>NaN</td>\n",
       "      <td>2</td>\n",
       "      <td>194</td>\n",
       "      <td>...</td>\n",
       "      <td>1.0</td>\n",
       "      <td>2.0</td>\n",
       "      <td>2.0</td>\n",
       "      <td>2.0</td>\n",
       "      <td>2.0</td>\n",
       "      <td>2.0</td>\n",
       "      <td>1.0</td>\n",
       "      <td>180</td>\n",
       "      <td>90</td>\n",
       "      <td>299</td>\n",
       "    </tr>\n",
       "    <tr>\n",
       "      <th>3</th>\n",
       "      <td>20187IM135613442</td>\n",
       "      <td>2018</td>\n",
       "      <td>7</td>\n",
       "      <td>1356</td>\n",
       "      <td>13442</td>\n",
       "      <td>3</td>\n",
       "      <td>4002</td>\n",
       "      <td>NaN</td>\n",
       "      <td>1</td>\n",
       "      <td>0</td>\n",
       "      <td>...</td>\n",
       "      <td>1.0</td>\n",
       "      <td>2.0</td>\n",
       "      <td>2.0</td>\n",
       "      <td>2.0</td>\n",
       "      <td>2.0</td>\n",
       "      <td>2.0</td>\n",
       "      <td>1.0</td>\n",
       "      <td>180</td>\n",
       "      <td>90</td>\n",
       "      <td>299</td>\n",
       "    </tr>\n",
       "    <tr>\n",
       "      <th>4</th>\n",
       "      <td>20187IM603013442</td>\n",
       "      <td>2018</td>\n",
       "      <td>7</td>\n",
       "      <td>6030</td>\n",
       "      <td>13442</td>\n",
       "      <td>27</td>\n",
       "      <td>38502</td>\n",
       "      <td>NaN</td>\n",
       "      <td>518</td>\n",
       "      <td>262</td>\n",
       "      <td>...</td>\n",
       "      <td>1.0</td>\n",
       "      <td>2.0</td>\n",
       "      <td>2.0</td>\n",
       "      <td>2.0</td>\n",
       "      <td>2.0</td>\n",
       "      <td>2.0</td>\n",
       "      <td>1.0</td>\n",
       "      <td>180</td>\n",
       "      <td>90</td>\n",
       "      <td>299</td>\n",
       "    </tr>\n",
       "  </tbody>\n",
       "</table>\n",
       "<p>5 rows × 36 columns</p>\n",
       "</div>"
      ],
      "text/plain": [
       "                 id  yyear  week_of_year  advertiser_id  hotel_id  clicks  \\\n",
       "0  20187IM592213442   2018             7           5922     13442       3   \n",
       "1  20187IM107113442   2018             7           1071     13442      20   \n",
       "2  20187IM556813442   2018             7           5568     13442       2   \n",
       "3  20187IM135613442   2018             7           1356     13442       3   \n",
       "4  20187IM603013442   2018             7           6030     13442      27   \n",
       "\n",
       "    cost  bookings  top_pos  beat           ...            \\\n",
       "0    690       NaN        0     0           ...             \n",
       "1  28060       NaN      451     4           ...             \n",
       "2   1196       NaN        2   194           ...             \n",
       "3   4002       NaN        1     0           ...             \n",
       "4  38502       NaN      518   262           ...             \n",
       "\n",
       "   city_hotel_centrally_located  health_resortrehab_hotel  club_club_hotel  \\\n",
       "0                           1.0                       2.0              2.0   \n",
       "1                           1.0                       2.0              2.0   \n",
       "2                           1.0                       2.0              2.0   \n",
       "3                           1.0                       2.0              2.0   \n",
       "4                           1.0                       2.0              2.0   \n",
       "\n",
       "   airport_hotel  senior_hotel  eco_friendly_hotel  family_hotel  \\\n",
       "0            2.0           2.0                 2.0           1.0   \n",
       "1            2.0           2.0                 2.0           1.0   \n",
       "2            2.0           2.0                 2.0           1.0   \n",
       "3            2.0           2.0                 2.0           1.0   \n",
       "4            2.0           2.0                 2.0           1.0   \n",
       "\n",
       "   total_images  total_hq_images  advertiser_connections  \n",
       "0           180               90                     299  \n",
       "1           180               90                     299  \n",
       "2           180               90                     299  \n",
       "3           180               90                     299  \n",
       "4           180               90                     299  \n",
       "\n",
       "[5 rows x 36 columns]"
      ]
     },
     "execution_count": 9,
     "metadata": {},
     "output_type": "execute_result"
    }
   ],
   "source": [
    "test_i.head()"
   ]
  },
  {
   "cell_type": "code",
   "execution_count": 10,
   "metadata": {
    "hidden": true
   },
   "outputs": [
    {
     "data": {
      "text/plain": [
       "['beat', 'meet', 'lose', 'rating', 'last_renovation']"
      ]
     },
     "execution_count": 10,
     "metadata": {},
     "output_type": "execute_result"
    }
   ],
   "source": [
    "train_i.columns[train_i.isna().any()].tolist()"
   ]
  },
  {
   "cell_type": "code",
   "execution_count": 11,
   "metadata": {
    "hidden": true
   },
   "outputs": [],
   "source": [
    "train_i['beat'].fillna(train_i['beat'].median(),inplace=True)\n",
    "train_i['meet'].fillna(train_i['meet'].median(),inplace=True)\n",
    "train_i['lose'].fillna(train_i['lose'].median(),inplace=True)\n",
    "train_i['rating'].fillna(train_i['rating'].median(),inplace=True)\n",
    "train_i['last_renovation'].fillna(train_i['last_renovation'].median(),inplace=True)"
   ]
  },
  {
   "cell_type": "code",
   "execution_count": 12,
   "metadata": {
    "hidden": true
   },
   "outputs": [
    {
     "data": {
      "text/plain": [
       "id                              False\n",
       "yyear                           False\n",
       "week_of_year                    False\n",
       "advertiser_id                   False\n",
       "hotel_id                        False\n",
       "clicks                          False\n",
       "cost                            False\n",
       "bookings                        False\n",
       "top_pos                         False\n",
       "beat                            False\n",
       "meet                            False\n",
       "lose                            False\n",
       "impressions                     False\n",
       "city_id                         False\n",
       "stars                           False\n",
       "rating                          False\n",
       "distance_to_city_centre         False\n",
       "poi_image                       False\n",
       "longitude                       False\n",
       "latitude                        False\n",
       "last_renovation                 False\n",
       "spa_hotel                       False\n",
       "country_hotel                   False\n",
       "convention_hotel                False\n",
       "beach_front_hotel               False\n",
       "luxury_hotel                    False\n",
       "city_hotel_centrally_located    False\n",
       "health_resortrehab_hotel        False\n",
       "club_club_hotel                 False\n",
       "airport_hotel                   False\n",
       "senior_hotel                    False\n",
       "eco_friendly_hotel              False\n",
       "family_hotel                    False\n",
       "total_images                    False\n",
       "total_hq_images                 False\n",
       "advertiser_connections          False\n",
       "dtype: bool"
      ]
     },
     "execution_count": 12,
     "metadata": {},
     "output_type": "execute_result"
    }
   ],
   "source": [
    "train_i.isna().any()"
   ]
  },
  {
   "cell_type": "code",
   "execution_count": 13,
   "metadata": {
    "hidden": true
   },
   "outputs": [
    {
     "data": {
      "text/plain": [
       "['bookings', 'rating', 'last_renovation', 'family_hotel']"
      ]
     },
     "execution_count": 13,
     "metadata": {},
     "output_type": "execute_result"
    }
   ],
   "source": [
    "test_i.columns[test_i.isna().any()].tolist()"
   ]
  },
  {
   "cell_type": "code",
   "execution_count": 14,
   "metadata": {
    "hidden": true
   },
   "outputs": [],
   "source": [
    "test_i['rating'].fillna(test_i['rating'].median(),inplace=True)\n",
    "test_i['last_renovation'].fillna(test_i['last_renovation'].median(),inplace=True)\n",
    "test_i['city_hotel_centrally_located'].fillna(test_i['city_hotel_centrally_located'].median(),inplace=True)"
   ]
  },
  {
   "cell_type": "code",
   "execution_count": 15,
   "metadata": {
    "hidden": true
   },
   "outputs": [
    {
     "data": {
      "text/html": [
       "<div>\n",
       "<style scoped>\n",
       "    .dataframe tbody tr th:only-of-type {\n",
       "        vertical-align: middle;\n",
       "    }\n",
       "\n",
       "    .dataframe tbody tr th {\n",
       "        vertical-align: top;\n",
       "    }\n",
       "\n",
       "    .dataframe thead th {\n",
       "        text-align: right;\n",
       "    }\n",
       "</style>\n",
       "<table border=\"1\" class=\"dataframe\">\n",
       "  <thead>\n",
       "    <tr style=\"text-align: right;\">\n",
       "      <th></th>\n",
       "      <th>id</th>\n",
       "      <th>yyear</th>\n",
       "      <th>week_of_year</th>\n",
       "      <th>advertiser_id</th>\n",
       "      <th>hotel_id</th>\n",
       "      <th>clicks</th>\n",
       "      <th>cost</th>\n",
       "      <th>bookings</th>\n",
       "      <th>top_pos</th>\n",
       "      <th>beat</th>\n",
       "      <th>...</th>\n",
       "      <th>city_hotel_centrally_located</th>\n",
       "      <th>health_resortrehab_hotel</th>\n",
       "      <th>club_club_hotel</th>\n",
       "      <th>airport_hotel</th>\n",
       "      <th>senior_hotel</th>\n",
       "      <th>eco_friendly_hotel</th>\n",
       "      <th>family_hotel</th>\n",
       "      <th>total_images</th>\n",
       "      <th>total_hq_images</th>\n",
       "      <th>advertiser_connections</th>\n",
       "    </tr>\n",
       "  </thead>\n",
       "  <tbody>\n",
       "    <tr>\n",
       "      <th>0</th>\n",
       "      <td>20187IM592213442</td>\n",
       "      <td>2018</td>\n",
       "      <td>7</td>\n",
       "      <td>5922</td>\n",
       "      <td>13442</td>\n",
       "      <td>3</td>\n",
       "      <td>690</td>\n",
       "      <td>NaN</td>\n",
       "      <td>0</td>\n",
       "      <td>0</td>\n",
       "      <td>...</td>\n",
       "      <td>1.0</td>\n",
       "      <td>2.0</td>\n",
       "      <td>2.0</td>\n",
       "      <td>2.0</td>\n",
       "      <td>2.0</td>\n",
       "      <td>2.0</td>\n",
       "      <td>1.0</td>\n",
       "      <td>180</td>\n",
       "      <td>90</td>\n",
       "      <td>299</td>\n",
       "    </tr>\n",
       "    <tr>\n",
       "      <th>1</th>\n",
       "      <td>20187IM107113442</td>\n",
       "      <td>2018</td>\n",
       "      <td>7</td>\n",
       "      <td>1071</td>\n",
       "      <td>13442</td>\n",
       "      <td>20</td>\n",
       "      <td>28060</td>\n",
       "      <td>NaN</td>\n",
       "      <td>451</td>\n",
       "      <td>4</td>\n",
       "      <td>...</td>\n",
       "      <td>1.0</td>\n",
       "      <td>2.0</td>\n",
       "      <td>2.0</td>\n",
       "      <td>2.0</td>\n",
       "      <td>2.0</td>\n",
       "      <td>2.0</td>\n",
       "      <td>1.0</td>\n",
       "      <td>180</td>\n",
       "      <td>90</td>\n",
       "      <td>299</td>\n",
       "    </tr>\n",
       "    <tr>\n",
       "      <th>2</th>\n",
       "      <td>20187IM556813442</td>\n",
       "      <td>2018</td>\n",
       "      <td>7</td>\n",
       "      <td>5568</td>\n",
       "      <td>13442</td>\n",
       "      <td>2</td>\n",
       "      <td>1196</td>\n",
       "      <td>NaN</td>\n",
       "      <td>2</td>\n",
       "      <td>194</td>\n",
       "      <td>...</td>\n",
       "      <td>1.0</td>\n",
       "      <td>2.0</td>\n",
       "      <td>2.0</td>\n",
       "      <td>2.0</td>\n",
       "      <td>2.0</td>\n",
       "      <td>2.0</td>\n",
       "      <td>1.0</td>\n",
       "      <td>180</td>\n",
       "      <td>90</td>\n",
       "      <td>299</td>\n",
       "    </tr>\n",
       "    <tr>\n",
       "      <th>3</th>\n",
       "      <td>20187IM135613442</td>\n",
       "      <td>2018</td>\n",
       "      <td>7</td>\n",
       "      <td>1356</td>\n",
       "      <td>13442</td>\n",
       "      <td>3</td>\n",
       "      <td>4002</td>\n",
       "      <td>NaN</td>\n",
       "      <td>1</td>\n",
       "      <td>0</td>\n",
       "      <td>...</td>\n",
       "      <td>1.0</td>\n",
       "      <td>2.0</td>\n",
       "      <td>2.0</td>\n",
       "      <td>2.0</td>\n",
       "      <td>2.0</td>\n",
       "      <td>2.0</td>\n",
       "      <td>1.0</td>\n",
       "      <td>180</td>\n",
       "      <td>90</td>\n",
       "      <td>299</td>\n",
       "    </tr>\n",
       "    <tr>\n",
       "      <th>4</th>\n",
       "      <td>20187IM603013442</td>\n",
       "      <td>2018</td>\n",
       "      <td>7</td>\n",
       "      <td>6030</td>\n",
       "      <td>13442</td>\n",
       "      <td>27</td>\n",
       "      <td>38502</td>\n",
       "      <td>NaN</td>\n",
       "      <td>518</td>\n",
       "      <td>262</td>\n",
       "      <td>...</td>\n",
       "      <td>1.0</td>\n",
       "      <td>2.0</td>\n",
       "      <td>2.0</td>\n",
       "      <td>2.0</td>\n",
       "      <td>2.0</td>\n",
       "      <td>2.0</td>\n",
       "      <td>1.0</td>\n",
       "      <td>180</td>\n",
       "      <td>90</td>\n",
       "      <td>299</td>\n",
       "    </tr>\n",
       "  </tbody>\n",
       "</table>\n",
       "<p>5 rows × 36 columns</p>\n",
       "</div>"
      ],
      "text/plain": [
       "                 id  yyear  week_of_year  advertiser_id  hotel_id  clicks  \\\n",
       "0  20187IM592213442   2018             7           5922     13442       3   \n",
       "1  20187IM107113442   2018             7           1071     13442      20   \n",
       "2  20187IM556813442   2018             7           5568     13442       2   \n",
       "3  20187IM135613442   2018             7           1356     13442       3   \n",
       "4  20187IM603013442   2018             7           6030     13442      27   \n",
       "\n",
       "    cost  bookings  top_pos  beat           ...            \\\n",
       "0    690       NaN        0     0           ...             \n",
       "1  28060       NaN      451     4           ...             \n",
       "2   1196       NaN        2   194           ...             \n",
       "3   4002       NaN        1     0           ...             \n",
       "4  38502       NaN      518   262           ...             \n",
       "\n",
       "   city_hotel_centrally_located  health_resortrehab_hotel  club_club_hotel  \\\n",
       "0                           1.0                       2.0              2.0   \n",
       "1                           1.0                       2.0              2.0   \n",
       "2                           1.0                       2.0              2.0   \n",
       "3                           1.0                       2.0              2.0   \n",
       "4                           1.0                       2.0              2.0   \n",
       "\n",
       "   airport_hotel  senior_hotel  eco_friendly_hotel  family_hotel  \\\n",
       "0            2.0           2.0                 2.0           1.0   \n",
       "1            2.0           2.0                 2.0           1.0   \n",
       "2            2.0           2.0                 2.0           1.0   \n",
       "3            2.0           2.0                 2.0           1.0   \n",
       "4            2.0           2.0                 2.0           1.0   \n",
       "\n",
       "   total_images  total_hq_images  advertiser_connections  \n",
       "0           180               90                     299  \n",
       "1           180               90                     299  \n",
       "2           180               90                     299  \n",
       "3           180               90                     299  \n",
       "4           180               90                     299  \n",
       "\n",
       "[5 rows x 36 columns]"
      ]
     },
     "execution_count": 15,
     "metadata": {},
     "output_type": "execute_result"
    }
   ],
   "source": [
    "test_i.head()"
   ]
  },
  {
   "cell_type": "code",
   "execution_count": 16,
   "metadata": {
    "hidden": true
   },
   "outputs": [
    {
     "data": {
      "text/plain": [
       "id                              False\n",
       "yyear                           False\n",
       "week_of_year                    False\n",
       "advertiser_id                   False\n",
       "hotel_id                        False\n",
       "clicks                          False\n",
       "cost                            False\n",
       "bookings                        False\n",
       "top_pos                         False\n",
       "beat                            False\n",
       "meet                            False\n",
       "lose                            False\n",
       "impressions                     False\n",
       "city_id                         False\n",
       "stars                           False\n",
       "rating                          False\n",
       "distance_to_city_centre         False\n",
       "poi_image                       False\n",
       "longitude                       False\n",
       "latitude                        False\n",
       "last_renovation                 False\n",
       "spa_hotel                       False\n",
       "country_hotel                   False\n",
       "convention_hotel                False\n",
       "beach_front_hotel               False\n",
       "luxury_hotel                    False\n",
       "city_hotel_centrally_located    False\n",
       "health_resortrehab_hotel        False\n",
       "club_club_hotel                 False\n",
       "airport_hotel                   False\n",
       "senior_hotel                    False\n",
       "eco_friendly_hotel              False\n",
       "family_hotel                    False\n",
       "total_images                    False\n",
       "total_hq_images                 False\n",
       "advertiser_connections          False\n",
       "dtype: bool"
      ]
     },
     "execution_count": 16,
     "metadata": {},
     "output_type": "execute_result"
    }
   ],
   "source": [
    "test_i.any().isna()"
   ]
  },
  {
   "cell_type": "code",
   "execution_count": 17,
   "metadata": {
    "hidden": true
   },
   "outputs": [
    {
     "data": {
      "text/plain": [
       "(array([5.91034e+05, 4.06200e+03, 5.61000e+02, 1.28000e+02, 4.30000e+01,\n",
       "        1.00000e+01, 4.00000e+00, 3.00000e+00, 1.00000e+00, 2.00000e+00]),\n",
       " array([  0. ,  55.7, 111.4, 167.1, 222.8, 278.5, 334.2, 389.9, 445.6,\n",
       "        501.3, 557. ]),\n",
       " <a list of 10 Patch objects>)"
      ]
     },
     "execution_count": 17,
     "metadata": {},
     "output_type": "execute_result"
    },
    {
     "data": {
      "image/png": "[encoded data removed]",
      "text/plain": [
       "<Figure size 432x288 with 1 Axes>"
      ]
     },
     "metadata": {},
     "output_type": "display_data"
    }
   ],
   "source": [
    "plt.hist(train_i['bookings'])"
   ]
  },
  {
   "cell_type": "code",
   "execution_count": 18,
   "metadata": {
    "hidden": true,
    "scrolled": true
   },
   "outputs": [
    {
     "data": {
      "text/plain": [
       "<matplotlib.collections.PathCollection at 0x7f5173b614a8>"
      ]
     },
     "execution_count": 18,
     "metadata": {},
     "output_type": "execute_result"
    },
    {
     "data": {
      "image/png": "[encoded data removed]",
      "text/plain": [
       "<Figure size 432x288 with 1 Axes>"
      ]
     },
     "metadata": {},
     "output_type": "display_data"
    }
   ],
   "source": [
    "plt.scatter(np.arange(train_i['bookings'].size),train_i['bookings'])"
   ]
  },
  {
   "cell_type": "markdown",
   "metadata": {
    "hidden": true
   },
   "source": [
    "**Inference:** There are outliers in the distribution of target values"
   ]
  },
  {
   "cell_type": "markdown",
   "metadata": {
    "hidden": true
   },
   "source": [
    "**Fitting kernel density estimation plots to understand the distribution of target variable 'bookings'**"
   ]
  },
  {
   "cell_type": "code",
   "execution_count": 19,
   "metadata": {
    "hidden": true
   },
   "outputs": [
    {
     "name": "stderr",
     "output_type": "stream",
     "text": [
      "/home/p_abhijeet666/anaconda3/envs/fastai/lib/python3.6/site-packages/scipy/stats/stats.py:1713: FutureWarning: Using a non-tuple sequence for multidimensional indexing is deprecated; use `arr[tuple(seq)]` instead of `arr[seq]`. In the future this will be interpreted as an array index, `arr[np.array(seq)]`, which will result either in an error or a different result.\n",
      "  return np.add.reduce(sorted[indexer] * weights, axis=axis) / sumval\n"
     ]
    },
    {
     "data": {
      "image/png": "[encoded data removed]",
      "text/plain": [
       "<Figure size 1296x360 with 1 Axes>"
      ]
     },
     "metadata": {},
     "output_type": "display_data"
    }
   ],
   "source": [
    "kernel_options = [\"biw\", \"cos\", \"epa\", \"gau\", \"tri\", \"triw\"]\n",
    "plt.figure(figsize=(18,5))\n",
    "for kern in kernel_options:\n",
    "    sns.kdeplot(train_i.bookings,kernel=kern,label=kern)"
   ]
  },
  {
   "cell_type": "markdown",
   "metadata": {
    "hidden": true
   },
   "source": [
    "**Inference:** We could choose the limit for outliers to be approximately 50. These could be mass bookings made during new years eve or during long-holiday periods, which are not representative of the whole year. "
   ]
  },
  {
   "cell_type": "code",
   "execution_count": 20,
   "metadata": {
    "hidden": true
   },
   "outputs": [
    {
     "data": {
      "text/plain": [
       "((595848, 36), (5513, 36))"
      ]
     },
     "execution_count": 20,
     "metadata": {},
     "output_type": "execute_result"
    }
   ],
   "source": [
    "train_i[train_i.bookings>-1].shape,train_i[train_i.bookings>50].shape"
   ]
  },
  {
   "cell_type": "markdown",
   "metadata": {
    "hidden": true
   },
   "source": [
    "**5515 values out of 595848 are dropped. That is 0.9% of the values are considered to be outliers**"
   ]
  },
  {
   "cell_type": "markdown",
   "metadata": {
    "hidden": true
   },
   "source": [
    "**Dropping the rows from the training dataset with target variable 'bookings' value more than 50.**"
   ]
  },
  {
   "cell_type": "code",
   "execution_count": 21,
   "metadata": {
    "hidden": true
   },
   "outputs": [],
   "source": [
    "train_i.drop(index=train_i[train_i.bookings>50].index,inplace=True)"
   ]
  },
  {
   "cell_type": "code",
   "execution_count": 22,
   "metadata": {
    "hidden": true
   },
   "outputs": [],
   "source": [
    "df_1=pd.DataFrame()\n",
    "df_2=pd.DataFrame()"
   ]
  },
  {
   "cell_type": "code",
   "execution_count": 23,
   "metadata": {
    "hidden": true
   },
   "outputs": [],
   "source": [
    "df_1['a']=train_i.week_of_year[train_i['yyear']==2017]\n",
    "df_1['b']= train_i.bookings[train_i['yyear']==2017] \n",
    "df_2['a']=train_i.week_of_year[train_i['yyear']==2018]\n",
    "df_2['b']= train_i.bookings[train_i['yyear']==2018] "
   ]
  },
  {
   "cell_type": "code",
   "execution_count": 26,
   "metadata": {
    "hidden": true
   },
   "outputs": [
    {
     "name": "stderr",
     "output_type": "stream",
     "text": [
      "/home/p_abhijeet666/anaconda3/envs/fastai/lib/python3.6/site-packages/scipy/stats/stats.py:1713: FutureWarning: Using a non-tuple sequence for multidimensional indexing is deprecated; use `arr[tuple(seq)]` instead of `arr[seq]`. In the future this will be interpreted as an array index, `arr[np.array(seq)]`, which will result either in an error or a different result.\n",
      "  return np.add.reduce(sorted[indexer] * weights, axis=axis) / sumval\n"
     ]
    },
    {
     "data": {
      "text/plain": [
       "<matplotlib.axes._subplots.AxesSubplot at 0x7f5173a6ccf8>"
      ]
     },
     "execution_count": 26,
     "metadata": {},
     "output_type": "execute_result"
    },
    {
     "data": {
      "image/png": "[encoded data removed]",
      "text/plain": [
       "<Figure size 1080x576 with 1 Axes>"
      ]
     },
     "metadata": {},
     "output_type": "display_data"
    }
   ],
   "source": [
    "plt.figure(figsize=(15,8))\n",
    "ax=sns.lineplot(x=\"a\", y=\"b\",data=df_1)\n",
    "sns.lineplot(x=\"a\", y=\"b\",data=df_2,ax=ax)"
   ]
  },
  {
   "cell_type": "markdown",
   "metadata": {
    "hidden": true
   },
   "source": [
    "**Inferences:** \n",
    "- It is wise to chose the Trianing set as data from year 2017 and Cross validation set from year 2018 instead of a regular 80-20 split of the dataset. \n",
    "- It is evident from the graph above that the trend of bookings follows approximately same pattern in years 2017 and 2018. "
   ]
  },
  {
   "cell_type": "code",
   "execution_count": 27,
   "metadata": {
    "hidden": true
   },
   "outputs": [],
   "source": [
    "scaler = MinMaxScaler()"
   ]
  },
  {
   "cell_type": "code",
   "execution_count": 30,
   "metadata": {
    "hidden": true
   },
   "outputs": [
    {
     "name": "stderr",
     "output_type": "stream",
     "text": [
      "/home/p_abhijeet666/anaconda3/envs/fastai/lib/python3.6/site-packages/sklearn/preprocessing/data.py:323: DataConversionWarning: Data with input dtype int64, float64 were all converted to float64 by MinMaxScaler.\n",
      "  return self.partial_fit(X, y)\n",
      "/home/p_abhijeet666/anaconda3/envs/fastai/lib/python3.6/site-packages/sklearn/preprocessing/data.py:323: DataConversionWarning: Data with input dtype int64, float64 were all converted to float64 by MinMaxScaler.\n",
      "  return self.partial_fit(X, y)\n",
      "/home/p_abhijeet666/anaconda3/envs/fastai/lib/python3.6/site-packages/sklearn/preprocessing/data.py:323: DataConversionWarning: Data with input dtype int64, float64 were all converted to float64 by MinMaxScaler.\n",
      "  return self.partial_fit(X, y)\n"
     ]
    }
   ],
   "source": [
    "X_train=scaler.fit_transform( train_i[train_i['yyear']==2017].drop(columns=['bookings','id']))\n",
    "Y_train = train_i.bookings[train_i['yyear']==2017]\n",
    "X_cv = scaler.fit_transform(train_i[train_i['yyear']==2018].drop(columns=['bookings','id']))\n",
    "Y_cv = train_i.bookings[train_i['yyear']==2018]\n",
    "X_test = scaler.fit_transform(test_i.drop(columns=['bookings','id']))"
   ]
  },
  {
   "cell_type": "code",
   "execution_count": 31,
   "metadata": {
    "hidden": true
   },
   "outputs": [],
   "source": [
    "param_test ={'num_leaves': sp_randint(6, 50), \n",
    "             'min_child_samples': sp_randint(100, 500), \n",
    "             'min_child_weight': [1e-5, 1e-3, 1e-2, 1e-1, 1, 1e1, 1e2, 1e3, 1e4],\n",
    "             'subsample': sp_uniform(loc=0.2, scale=0.8), \n",
    "             'colsample_bytree': sp_uniform(loc=0.4, scale=0.6),\n",
    "             'reg_alpha': [0, 1e-1, 1, 2, 5, 7, 10, 50, 100],\n",
    "             'reg_lambda': [0, 1e-1, 1, 5, 10, 20, 50, 100]}"
   ]
  },
  {
   "cell_type": "code",
   "execution_count": 32,
   "metadata": {
    "hidden": true
   },
   "outputs": [],
   "source": [
    "fit_params={\"early_stopping_rounds\":30, \n",
    "            \"eval_metric\" : 'rmse', \n",
    "            \"eval_set\" : [(X_cv,Y_cv)],\n",
    "            'eval_names': ['valid'],\n",
    "            #'callbacks': [lgb.reset_parameter(learning_rate=learning_rate_010_decay_power_099)],\n",
    "            'verbose': 100,\n",
    "            'categorical_feature': 'auto',#'feature_name':X_train.columns.tolist()\n",
    "            }"
   ]
  },
  {
   "cell_type": "code",
   "execution_count": 33,
   "metadata": {
    "hidden": true
   },
   "outputs": [],
   "source": [
    "n_HP_points_to_test = 100\n",
    "model = lgb.LGBMRegressor(max_depth=5, random_state=314, silent=True, metric='rmse', n_jobs=4, n_estimators=5000)\n",
    "gs = RandomizedSearchCV(\n",
    "    estimator=model, param_distributions=param_test, \n",
    "    n_iter=n_HP_points_to_test,\n",
    "    scoring='r2',\n",
    "    cv=3,\n",
    "    refit=True,\n",
    "    random_state=314,\n",
    "    verbose=True)"
   ]
  },
  {
   "cell_type": "markdown",
   "metadata": {
    "hidden": true
   },
   "source": [
    "- The above randomized grid search was run in another copy of the notebook to save time. \n",
    "- Best score is achieved with following parameters \n",
    "\n",
    "{'colsample_bytree': 0.5748561875650441, 'min_child_samples': 148, 'min_child_weight': 100.0, 'num_leaves': 33, 'reg_alpha': 50, 'reg_lambda': 5, 'subsample': 0.5431696497636938} "
   ]
  },
  {
   "cell_type": "code",
   "execution_count": 35,
   "metadata": {
    "hidden": true
   },
   "outputs": [],
   "source": [
    "model = lgbm.LGBMRegressor(\n",
    "    objective='regression',\n",
    "    max_depth=-1,\n",
    "    learning_rate=0.007,\n",
    "    n_estimators=30000,\n",
    "    min_child_samples=148,\n",
    "    subsample=0.5431696497636938,\n",
    "    colsample_bytree=0.5748561875650441,\n",
    "    reg_alpha=50,\n",
    "    reg_lambda=5,\n",
    "    random_state=np.random.randint(10e6),min_child_weight=100,num_leaves=33)"
   ]
  },
  {
   "cell_type": "code",
   "execution_count": 36,
   "metadata": {
    "hidden": true
   },
   "outputs": [
    {
     "data": {
      "text/plain": [
       "LGBMRegressor(boosting_type='gbdt', class_weight=None,\n",
       "       colsample_bytree=0.5748561875650441, importance_type='split',\n",
       "       learning_rate=0.007, max_depth=-1, min_child_samples=148,\n",
       "       min_child_weight=100, min_split_gain=0.0, n_estimators=30000,\n",
       "       n_jobs=-1, num_leaves=33, objective='regression',\n",
       "       random_state=9041518, reg_alpha=50, reg_lambda=5, silent=True,\n",
       "       subsample=0.5431696497636938, subsample_for_bin=200000,\n",
       "       subsample_freq=0)"
      ]
     },
     "execution_count": 36,
     "metadata": {},
     "output_type": "execute_result"
    }
   ],
   "source": [
    "model.fit(X_train,Y_train,eval_set=(X_cv,Y_cv), eval_names=('fit', 'val'),\n",
    "        eval_metric= 'rmse',\n",
    "        early_stopping_rounds=200,\n",
    "        #feature_name= X_train.columns.tolist(),\n",
    "        verbose=False)\n"
   ]
  },
  {
   "cell_type": "code",
   "execution_count": 37,
   "metadata": {
    "hidden": true
   },
   "outputs": [],
   "source": [
    "def rmse(x,y): \n",
    "    return np.sqrt(((x-y)**2).mean())"
   ]
  },
  {
   "cell_type": "code",
   "execution_count": 38,
   "metadata": {
    "hidden": true
   },
   "outputs": [],
   "source": [
    "y_pred_on_cv = model.predict(X_cv, num_iteration= model.best_iteration_)"
   ]
  },
  {
   "cell_type": "code",
   "execution_count": 39,
   "metadata": {
    "hidden": true
   },
   "outputs": [
    {
     "name": "stdout",
     "output_type": "stream",
     "text": [
      "3.8527550213231856\n"
     ]
    }
   ],
   "source": [
    "print(rmse(Y_cv,y_pred_on_cv))"
   ]
  },
  {
   "cell_type": "code",
   "execution_count": 41,
   "metadata": {
    "hidden": true
   },
   "outputs": [],
   "source": [
    "feature_importances = pd.DataFrame()"
   ]
  },
  {
   "cell_type": "code",
   "execution_count": 42,
   "metadata": {
    "hidden": true
   },
   "outputs": [],
   "source": [
    "feature_importances['features'] = train_i.drop(columns=['bookings','id']).columns"
   ]
  },
  {
   "cell_type": "code",
   "execution_count": 43,
   "metadata": {
    "hidden": true
   },
   "outputs": [],
   "source": [
    "feature_importances['importance']=model.feature_importances_"
   ]
  },
  {
   "cell_type": "code",
   "execution_count": 44,
   "metadata": {
    "hidden": true
   },
   "outputs": [
    {
     "data": {
      "text/html": [
       "<div>\n",
       "<style scoped>\n",
       "    .dataframe tbody tr th:only-of-type {\n",
       "        vertical-align: middle;\n",
       "    }\n",
       "\n",
       "    .dataframe tbody tr th {\n",
       "        vertical-align: top;\n",
       "    }\n",
       "\n",
       "    .dataframe thead th {\n",
       "        text-align: right;\n",
       "    }\n",
       "</style>\n",
       "<table border=\"1\" class=\"dataframe\">\n",
       "  <thead>\n",
       "    <tr style=\"text-align: right;\">\n",
       "      <th></th>\n",
       "      <th>features</th>\n",
       "      <th>importance</th>\n",
       "    </tr>\n",
       "  </thead>\n",
       "  <tbody>\n",
       "    <tr>\n",
       "      <th>0</th>\n",
       "      <td>yyear</td>\n",
       "      <td>0</td>\n",
       "    </tr>\n",
       "    <tr>\n",
       "      <th>15</th>\n",
       "      <td>poi_image</td>\n",
       "      <td>0</td>\n",
       "    </tr>\n",
       "    <tr>\n",
       "      <th>26</th>\n",
       "      <td>club_club_hotel</td>\n",
       "      <td>35</td>\n",
       "    </tr>\n",
       "    <tr>\n",
       "      <th>28</th>\n",
       "      <td>senior_hotel</td>\n",
       "      <td>95</td>\n",
       "    </tr>\n",
       "    <tr>\n",
       "      <th>29</th>\n",
       "      <td>eco_friendly_hotel</td>\n",
       "      <td>179</td>\n",
       "    </tr>\n",
       "    <tr>\n",
       "      <th>27</th>\n",
       "      <td>airport_hotel</td>\n",
       "      <td>476</td>\n",
       "    </tr>\n",
       "    <tr>\n",
       "      <th>22</th>\n",
       "      <td>beach_front_hotel</td>\n",
       "      <td>543</td>\n",
       "    </tr>\n",
       "    <tr>\n",
       "      <th>23</th>\n",
       "      <td>luxury_hotel</td>\n",
       "      <td>584</td>\n",
       "    </tr>\n",
       "    <tr>\n",
       "      <th>20</th>\n",
       "      <td>country_hotel</td>\n",
       "      <td>607</td>\n",
       "    </tr>\n",
       "    <tr>\n",
       "      <th>24</th>\n",
       "      <td>city_hotel_centrally_located</td>\n",
       "      <td>615</td>\n",
       "    </tr>\n",
       "    <tr>\n",
       "      <th>21</th>\n",
       "      <td>convention_hotel</td>\n",
       "      <td>640</td>\n",
       "    </tr>\n",
       "    <tr>\n",
       "      <th>25</th>\n",
       "      <td>health_resortrehab_hotel</td>\n",
       "      <td>903</td>\n",
       "    </tr>\n",
       "    <tr>\n",
       "      <th>19</th>\n",
       "      <td>spa_hotel</td>\n",
       "      <td>1136</td>\n",
       "    </tr>\n",
       "    <tr>\n",
       "      <th>13</th>\n",
       "      <td>rating</td>\n",
       "      <td>1173</td>\n",
       "    </tr>\n",
       "    <tr>\n",
       "      <th>30</th>\n",
       "      <td>family_hotel</td>\n",
       "      <td>1229</td>\n",
       "    </tr>\n",
       "    <tr>\n",
       "      <th>18</th>\n",
       "      <td>last_renovation</td>\n",
       "      <td>2873</td>\n",
       "    </tr>\n",
       "    <tr>\n",
       "      <th>12</th>\n",
       "      <td>stars</td>\n",
       "      <td>3634</td>\n",
       "    </tr>\n",
       "    <tr>\n",
       "      <th>10</th>\n",
       "      <td>impressions</td>\n",
       "      <td>9132</td>\n",
       "    </tr>\n",
       "    <tr>\n",
       "      <th>9</th>\n",
       "      <td>lose</td>\n",
       "      <td>10629</td>\n",
       "    </tr>\n",
       "    <tr>\n",
       "      <th>11</th>\n",
       "      <td>city_id</td>\n",
       "      <td>11142</td>\n",
       "    </tr>\n",
       "    <tr>\n",
       "      <th>32</th>\n",
       "      <td>total_hq_images</td>\n",
       "      <td>11623</td>\n",
       "    </tr>\n",
       "    <tr>\n",
       "      <th>2</th>\n",
       "      <td>advertiser_id</td>\n",
       "      <td>11875</td>\n",
       "    </tr>\n",
       "    <tr>\n",
       "      <th>7</th>\n",
       "      <td>beat</td>\n",
       "      <td>11905</td>\n",
       "    </tr>\n",
       "    <tr>\n",
       "      <th>8</th>\n",
       "      <td>meet</td>\n",
       "      <td>12181</td>\n",
       "    </tr>\n",
       "    <tr>\n",
       "      <th>1</th>\n",
       "      <td>week_of_year</td>\n",
       "      <td>12259</td>\n",
       "    </tr>\n",
       "    <tr>\n",
       "      <th>31</th>\n",
       "      <td>total_images</td>\n",
       "      <td>12446</td>\n",
       "    </tr>\n",
       "    <tr>\n",
       "      <th>3</th>\n",
       "      <td>hotel_id</td>\n",
       "      <td>12573</td>\n",
       "    </tr>\n",
       "    <tr>\n",
       "      <th>6</th>\n",
       "      <td>top_pos</td>\n",
       "      <td>13182</td>\n",
       "    </tr>\n",
       "    <tr>\n",
       "      <th>5</th>\n",
       "      <td>cost</td>\n",
       "      <td>13290</td>\n",
       "    </tr>\n",
       "    <tr>\n",
       "      <th>14</th>\n",
       "      <td>distance_to_city_centre</td>\n",
       "      <td>13315</td>\n",
       "    </tr>\n",
       "    <tr>\n",
       "      <th>33</th>\n",
       "      <td>advertiser_connections</td>\n",
       "      <td>13842</td>\n",
       "    </tr>\n",
       "    <tr>\n",
       "      <th>16</th>\n",
       "      <td>longitude</td>\n",
       "      <td>15644</td>\n",
       "    </tr>\n",
       "    <tr>\n",
       "      <th>17</th>\n",
       "      <td>latitude</td>\n",
       "      <td>16579</td>\n",
       "    </tr>\n",
       "    <tr>\n",
       "      <th>4</th>\n",
       "      <td>clicks</td>\n",
       "      <td>18349</td>\n",
       "    </tr>\n",
       "  </tbody>\n",
       "</table>\n",
       "</div>"
      ],
      "text/plain": [
       "                        features  importance\n",
       "0                          yyear           0\n",
       "15                     poi_image           0\n",
       "26               club_club_hotel          35\n",
       "28                  senior_hotel          95\n",
       "29            eco_friendly_hotel         179\n",
       "27                 airport_hotel         476\n",
       "22             beach_front_hotel         543\n",
       "23                  luxury_hotel         584\n",
       "20                 country_hotel         607\n",
       "24  city_hotel_centrally_located         615\n",
       "21              convention_hotel         640\n",
       "25      health_resortrehab_hotel         903\n",
       "19                     spa_hotel        1136\n",
       "13                        rating        1173\n",
       "30                  family_hotel        1229\n",
       "18               last_renovation        2873\n",
       "12                         stars        3634\n",
       "10                   impressions        9132\n",
       "9                           lose       10629\n",
       "11                       city_id       11142\n",
       "32               total_hq_images       11623\n",
       "2                  advertiser_id       11875\n",
       "7                           beat       11905\n",
       "8                           meet       12181\n",
       "1                   week_of_year       12259\n",
       "31                  total_images       12446\n",
       "3                       hotel_id       12573\n",
       "6                        top_pos       13182\n",
       "5                           cost       13290\n",
       "14       distance_to_city_centre       13315\n",
       "33        advertiser_connections       13842\n",
       "16                     longitude       15644\n",
       "17                      latitude       16579\n",
       "4                         clicks       18349"
      ]
     },
     "execution_count": 44,
     "metadata": {},
     "output_type": "execute_result"
    }
   ],
   "source": [
    "feature_importances.sort_values(by='importance',ascending=True)"
   ]
  },
  {
   "cell_type": "markdown",
   "metadata": {
    "hidden": true
   },
   "source": [
    "- It is evident from the table above that number of clicks has the highest importance. "
   ]
  },
  {
   "cell_type": "code",
   "execution_count": 45,
   "metadata": {
    "hidden": true
   },
   "outputs": [],
   "source": [
    "y_pred_on_test = model.predict(X_test, num_iteration= model.best_iteration_)"
   ]
  },
  {
   "cell_type": "code",
   "execution_count": 47,
   "metadata": {
    "hidden": true
   },
   "outputs": [],
   "source": [
    "submission=pd.DataFrame()"
   ]
  },
  {
   "cell_type": "code",
   "execution_count": 48,
   "metadata": {
    "hidden": true
   },
   "outputs": [],
   "source": [
    "submission['id']=test_i.id\n",
    "submission['pred_bookings']=y_pred_on_test"
   ]
  },
  {
   "cell_type": "code",
   "execution_count": 50,
   "metadata": {
    "hidden": true
   },
   "outputs": [
    {
     "data": {
      "text/html": [
       "<div>\n",
       "<style scoped>\n",
       "    .dataframe tbody tr th:only-of-type {\n",
       "        vertical-align: middle;\n",
       "    }\n",
       "\n",
       "    .dataframe tbody tr th {\n",
       "        vertical-align: top;\n",
       "    }\n",
       "\n",
       "    .dataframe thead th {\n",
       "        text-align: right;\n",
       "    }\n",
       "</style>\n",
       "<table border=\"1\" class=\"dataframe\">\n",
       "  <thead>\n",
       "    <tr style=\"text-align: right;\">\n",
       "      <th></th>\n",
       "      <th>id</th>\n",
       "      <th>pred_bookings</th>\n",
       "    </tr>\n",
       "  </thead>\n",
       "  <tbody>\n",
       "    <tr>\n",
       "      <th>0</th>\n",
       "      <td>20187IM592213442</td>\n",
       "      <td>0.106415</td>\n",
       "    </tr>\n",
       "    <tr>\n",
       "      <th>1</th>\n",
       "      <td>20187IM107113442</td>\n",
       "      <td>-0.285158</td>\n",
       "    </tr>\n",
       "    <tr>\n",
       "      <th>2</th>\n",
       "      <td>20187IM556813442</td>\n",
       "      <td>0.042647</td>\n",
       "    </tr>\n",
       "    <tr>\n",
       "      <th>3</th>\n",
       "      <td>20187IM135613442</td>\n",
       "      <td>0.381736</td>\n",
       "    </tr>\n",
       "    <tr>\n",
       "      <th>4</th>\n",
       "      <td>20187IM603013442</td>\n",
       "      <td>0.785480</td>\n",
       "    </tr>\n",
       "  </tbody>\n",
       "</table>\n",
       "</div>"
      ],
      "text/plain": [
       "                 id  pred_bookings\n",
       "0  20187IM592213442       0.106415\n",
       "1  20187IM107113442      -0.285158\n",
       "2  20187IM556813442       0.042647\n",
       "3  20187IM135613442       0.381736\n",
       "4  20187IM603013442       0.785480"
      ]
     },
     "execution_count": 50,
     "metadata": {},
     "output_type": "execute_result"
    }
   ],
   "source": [
    "submission.head()"
   ]
  },
  {
   "cell_type": "code",
   "execution_count": 55,
   "metadata": {
    "hidden": true
   },
   "outputs": [],
   "source": [
    "submission.to_csv('submission.csv',index=False)"
   ]
  },
  {
   "cell_type": "code",
   "execution_count": null,
   "metadata": {
    "hidden": true
   },
   "outputs": [],
   "source": []
  }
 ],
 "metadata": {
  "kernelspec": {
   "display_name": "Python 3",
   "language": "python",
   "name": "python3"
  },
  "language_info": {
   "codemirror_mode": {
    "name": "ipython",
    "version": 3
   },
   "file_extension": ".py",
   "mimetype": "text/x-python",
   "name": "python",
   "nbconvert_exporter": "python",
   "pygments_lexer": "ipython3",
   "version": "3.7.4"
  }
 },
 "nbformat": 4,
 "nbformat_minor": 2
}
